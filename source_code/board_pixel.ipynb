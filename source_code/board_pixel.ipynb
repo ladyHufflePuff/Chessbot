{
 "cells": [
  {
   "cell_type": "markdown",
   "id": "5297a47a",
   "metadata": {},
   "source": [
    "# Script to generate a chessboard image for manually annotating square coordinates.\n"
   ]
  },
  {
   "cell_type": "code",
   "execution_count": null,
   "id": "22b591e5-0491-4d35-9308-69c00ac7a25e",
   "metadata": {},
   "outputs": [],
   "source": [
    "import cv2\n",
    "\n",
    "cap = cv2.VideoCapture(0) \n",
    "ret, frame = cap.read()\n",
    "if ret:\n",
    "    cv2.imshow(\"Contours\", frame)\n",
    "    gray = cv2.cvtColor(frame, cv2.COLOR_BGR2GRAY)\n",
    "    blur = cv2.GaussianBlur(gray, (5, 5), 0)\n",
    "    thresholded = cv2.adaptiveThreshold(blur, 255, cv2.ADAPTIVE_THRESH_GAUSSIAN_C, cv2.THRESH_BINARY, 11, 2)\n",
    "    edges = cv2.Canny(thresholded, 50,150 )\n",
    "    contours, _ = cv2.findContours(edges, cv2.RETR_EXTERNAL, cv2.CHAIN_APPROX_SIMPLE)\n",
    "    \n",
    "    min_area = 900  \n",
    "    max_area = 500  \n",
    "    filtered_contours = [c for c in contours if  cv2.contourArea(c) > min_area]\n",
    "    \n",
    "    for contour in filtered_contours:\n",
    "        approx = cv2.approxPolyDP(contour, 0.02 * cv2.arcLength(contour, True), True)\n",
    "        if len(approx) == 4:  \n",
    "            cv2.drawContours(frame, [contour], -1, (0, 255, 0), 2)\n",
    "    cv2.waitKey(0)"
   ]
  }
 ],
 "metadata": {
  "kernelspec": {
   "display_name": "Python 3 (ipykernel)",
   "language": "python",
   "name": "python3"
  },
  "language_info": {
   "codemirror_mode": {
    "name": "ipython",
    "version": 3
   },
   "file_extension": ".py",
   "mimetype": "text/x-python",
   "name": "python",
   "nbconvert_exporter": "python",
   "pygments_lexer": "ipython3",
   "version": "3.11.2"
  }
 },
 "nbformat": 4,
 "nbformat_minor": 5
}
