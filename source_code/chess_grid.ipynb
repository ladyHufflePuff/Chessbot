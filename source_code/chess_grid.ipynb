{
 "cells": [
  {
   "cell_type": "code",
   "execution_count": null,
   "id": "17f9158e-834f-4d5e-b2f0-6a978cb70c4f",
   "metadata": {},
   "outputs": [],
   "source": [
    "import cv2\n",
    "import numpy as np\n",
    "import json\n",
    "\n",
    "# Load the JSON file containing the square coordinates\n",
    "with open('square.json', 'r') as file:\n",
    "    square_dict = json.load(file)\n",
    "\n",
    "# Load the chessboard image\n",
    "image = cv2.imread('images/chess_grid.jpg')\n",
    "\n",
    "# Draw the square on the image\n",
    "for square_key, square_coords in square_dict.items():\n",
    "    polygon = np.array(square_coords, np.int32).reshape((-1, 1, 2))\n",
    "    cv2.polylines(image, [polygon], True, (0, 255, 0), thickness=2)\n",
    "\n",
    "\n",
    "# Display the image with the highlighted square\n",
    "cv2.imshow('Board', image)\n",
    "cv2.waitKey(0)\n",
    "cv2.destroyAllWindows()\n",
    "\n"
   ]
  },
  {
   "cell_type": "code",
   "execution_count": null,
   "id": "44e35ea9-5630-4a90-98a3-8b5c36ad0c3c",
   "metadata": {},
   "outputs": [],
   "source": []
  }
 ],
 "metadata": {
  "kernelspec": {
   "display_name": "Python 3 (ipykernel)",
   "language": "python",
   "name": "python3"
  },
  "language_info": {
   "codemirror_mode": {
    "name": "ipython",
    "version": 3
   },
   "file_extension": ".py",
   "mimetype": "text/x-python",
   "name": "python",
   "nbconvert_exporter": "python",
   "pygments_lexer": "ipython3",
   "version": "3.11.2"
  }
 },
 "nbformat": 4,
 "nbformat_minor": 5
}
