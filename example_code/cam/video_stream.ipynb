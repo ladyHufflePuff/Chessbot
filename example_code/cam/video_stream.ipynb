{
 "cells": [
  {
   "cell_type": "code",
   "execution_count": 1,
   "id": "16e2e2e1-d2e3-4a02-88dd-29f79cf31304",
   "metadata": {},
   "outputs": [
    {
     "data": {
      "application/vnd.jupyter.widget-view+json": {
       "model_id": "2939e85d445541dfb368dc7ceaae2adf",
       "version_major": 2,
       "version_minor": 0
      },
      "text/plain": [
       "Image(value=b'', format='jpeg', height='500', width='600')"
      ]
     },
     "metadata": {},
     "output_type": "display_data"
    }
   ],
   "source": [
    "import cv2\n",
    "import ipywidgets.widgets as widgets\n",
    "import threading\n",
    "import time\n",
    "\n",
    "image_widget = widgets.Image(format='jpeg', width=600, height=500)  #设置摄像头显示组件\n",
    "display(image_widget) "
   ]
  },
  {
   "cell_type": "code",
   "execution_count": 2,
   "id": "16feedbd-01a5-466c-be74-7d76da54fbf0",
   "metadata": {},
   "outputs": [],
   "source": [
    "#bgr8转jpeg格式\n",
    "import enum\n",
    "import cv2\n",
    "\n",
    "def bgr8_to_jpeg(value, quality=75):\n",
    "    return bytes(cv2.imencode('.jpg', value)[1])"
   ]
  },
  {
   "cell_type": "code",
   "execution_count": 3,
   "id": "a83b643b-8b5d-4baa-9cb5-5d0486d2404c",
   "metadata": {},
   "outputs": [],
   "source": [
    "image = cv2.VideoCapture(0)                          #Open camera\n",
    "\n",
    "width=600\n",
    "height=500\n",
    "ret, frame = image.read()     #Read camera data\n",
    "image_widget.value = bgr8_to_jpeg(frame)"
   ]
  },
  {
   "cell_type": "code",
   "execution_count": null,
   "id": "6b89420c-babd-4c71-af30-ce353f262ae5",
   "metadata": {},
   "outputs": [],
   "source": [
    "try:\n",
    "    while 1:\n",
    "        ret, frame = image.read()\n",
    "        image_widget.value = bgr8_to_jpeg(frame)\n",
    "        time.sleep(0.010)\n",
    "except KeyboardInterrupt:\n",
    "    print(\" Program closed! \")\n",
    "    pass"
   ]
  },
  {
   "cell_type": "code",
   "execution_count": null,
   "id": "75fad7dc-edb2-4871-8b63-f6bcf17ea000",
   "metadata": {},
   "outputs": [],
   "source": [
    "image.release()  "
   ]
  },
  {
   "cell_type": "code",
   "execution_count": null,
   "id": "3f8db504-2694-4549-9e5a-bd4f1b85f5e0",
   "metadata": {},
   "outputs": [],
   "source": []
  }
 ],
 "metadata": {
  "kernelspec": {
   "display_name": "Python 3 (ipykernel)",
   "language": "python",
   "name": "python3"
  },
  "language_info": {
   "codemirror_mode": {
    "name": "ipython",
    "version": 3
   },
   "file_extension": ".py",
   "mimetype": "text/x-python",
   "name": "python",
   "nbconvert_exporter": "python",
   "pygments_lexer": "ipython3",
   "version": "3.11.2"
  }
 },
 "nbformat": 4,
 "nbformat_minor": 5
}
