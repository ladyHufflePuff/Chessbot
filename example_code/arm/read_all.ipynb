{
 "cells": [
  {
   "cell_type": "code",
   "execution_count": 1,
   "id": "c0119ebd-d33e-4e0c-8bda-f59e7f3627fb",
   "metadata": {},
   "outputs": [],
   "source": [
    "#!/usr/bin/env python3\n",
    "#coding=utf-8\n",
    "import time\n",
    "from Arm_Lib import Arm_Device\n",
    "\n",
    "# Get DOFBOT object\n",
    "Arm = Arm_Device()\n",
    "\n",
    "time.sleep(.1)\n"
   ]
  },
  {
   "cell_type": "code",
   "execution_count": 2,
   "id": "1af7b643-f428-4b77-9d3f-5fe3fed49c7a",
   "metadata": {},
   "outputs": [],
   "source": [
    "# Read angle of all servo and printf\n",
    "def main():\n",
    "    for i in range(6):\n",
    "            aa = Arm.Arm_serial_servo_read(i+1)\n",
    "            print(aa)\n",
    "            time.sleep(.01)\n",
    "    time.sleep(.5)\n",
    "    \n",
    "    "
   ]
  },
  {
   "cell_type": "code",
   "execution_count": 3,
   "id": "5f843a22-8fb9-4872-970b-ef7c6a605578",
   "metadata": {},
   "outputs": [
    {
     "name": "stdout",
     "output_type": "stream",
     "text": [
      "95\n",
      "153\n",
      "None\n",
      "9\n",
      "89\n",
      "156\n"
     ]
    }
   ],
   "source": [
    "try:\n",
    "    main()\n",
    "except KeyboardInterrupt:\n",
    "    print(\"Program interrupted!\")\n",
    "finally:\n",
    "    del Arm "
   ]
  },
  {
   "cell_type": "code",
   "execution_count": null,
   "id": "0c17c7e2-d70a-40bd-ac94-d0a286736061",
   "metadata": {},
   "outputs": [],
   "source": []
  }
 ],
 "metadata": {
  "kernelspec": {
   "display_name": "Python 3 (ipykernel)",
   "language": "python",
   "name": "python3"
  },
  "language_info": {
   "codemirror_mode": {
    "name": "ipython",
    "version": 3
   },
   "file_extension": ".py",
   "mimetype": "text/x-python",
   "name": "python",
   "nbconvert_exporter": "python",
   "pygments_lexer": "ipython3",
   "version": "3.11.2"
  }
 },
 "nbformat": 4,
 "nbformat_minor": 5
}
