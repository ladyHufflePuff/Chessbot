{
 "cells": [
  {
   "cell_type": "code",
   "execution_count": 1,
   "id": "c97d0f8a-25ed-4d34-bc9c-1ca1c77438f7",
   "metadata": {},
   "outputs": [],
   "source": [
    "#!/usr/bin/env python3\n",
    "#coding=utf-8\n",
    "import time\n",
    "from Arm_Lib import Arm_Device\n",
    "\n",
    "# Get DOFBOT object\n",
    "Arm = Arm_Device()\n",
    "time.sleep(.1)\n"
   ]
  },
  {
   "cell_type": "code",
   "execution_count": 2,
   "id": "3125f920-2b69-469f-a8f1-107d8b9436d2",
   "metadata": {},
   "outputs": [],
   "source": [
    "# Separately control a servo to move to a certain angle\n",
    "id = 5\n",
    "\n",
    "Arm.Arm_serial_servo_write(id, 90, 500)\n",
    "time.sleep(1)"
   ]
  },
  {
   "cell_type": "code",
   "execution_count": 3,
   "id": "db0cd73e-c6d1-4298-8093-b55aed3fe6ce",
   "metadata": {},
   "outputs": [
    {
     "name": "stdout",
     "output_type": "stream",
     "text": [
      " Program closed! \n"
     ]
    }
   ],
   "source": [
    "# Control a servo to switch angles\n",
    "id = 1\n",
    "\n",
    "def main():\n",
    "    while True:\n",
    "        Arm.Arm_serial_servo_write(id, 120, 500)\n",
    "        time.sleep(1)\n",
    "        Arm.Arm_serial_servo_write(id, 50, 500)\n",
    "        time.sleep(1)\n",
    "        Arm.Arm_serial_servo_write(id, 120, 500)\n",
    "        time.sleep(1)\n",
    "        Arm.Arm_serial_servo_write(id, 180, 500)\n",
    "        time.sleep(1)\n",
    "\n",
    "    \n",
    "try :\n",
    "    main()\n",
    "except KeyboardInterrupt:\n",
    "    print(\" Program closed! \")\n",
    "    pass"
   ]
  },
  {
   "cell_type": "code",
   "execution_count": 4,
   "id": "0ef78b86-726a-469d-96d8-a4ff04a975d9",
   "metadata": {},
   "outputs": [],
   "source": [
    "del Arm  # Release DOFBOT object"
   ]
  }
 ],
 "metadata": {
  "kernelspec": {
   "display_name": "Python 3 (ipykernel)",
   "language": "python",
   "name": "python3"
  },
  "language_info": {
   "codemirror_mode": {
    "name": "ipython",
    "version": 3
   },
   "file_extension": ".py",
   "mimetype": "text/x-python",
   "name": "python",
   "nbconvert_exporter": "python",
   "pygments_lexer": "ipython3",
   "version": "3.11.2"
  }
 },
 "nbformat": 4,
 "nbformat_minor": 5
}
