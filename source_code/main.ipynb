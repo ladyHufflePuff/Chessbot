{
 "cells": [
  {
   "cell_type": "code",
   "execution_count": 28,
   "id": "a504023a-e943-46b9-b8ec-76fd1c4f3991",
   "metadata": {},
   "outputs": [],
   "source": [
    "# Package imports\n",
    "import cv2\n",
    "import json\n",
    "import numpy as np\n",
    "import chess\n",
    "import chess.svg\n",
    "from cairosvg import svg2png\n",
    "import random \n",
    "import chess.engine\n",
    "import time\n",
    "from Arm_lib import Arm_Device\n",
    "import asyncio"
   ]
  },
  {
   "cell_type": "code",
   "execution_count": null,
   "id": "658ce339",
   "metadata": {},
   "outputs": [],
   "source": [
    "# Initialize robotic arm\n",
    "Arm = Arm_Device()\n",
    "time.sleep(.1)\n",
    "speed = 1700\n",
    "\n",
    "# Chess game engine\n",
    "engine = chess.engine.SimpleEngine.popen_uci('Stockfish/src/./stockfish' )\n",
    "\n",
    "# Load square coordinates and arm positions\n",
    "with open('chessboard_mapping.json', 'r') as file:\n",
    "    square_map = json.load(file)\n",
    "\n",
    "with open('arm_position.json', 'r') as file:\n",
    "    arm_position = json.load(file)"
   ]
  },
  {
   "cell_type": "code",
   "execution_count": null,
   "id": "02d40672",
   "metadata": {},
   "outputs": [],
   "source": [
    "# Visualizes the chessboard and game states in real time\n",
    "def visualize_game(board: chess.Board, size=400, move = None) -> None:\n",
    "    if move is not None:\n",
    "        sq1, sq2 = chess.parse_square(move[:2]), chess.parse_square(move[2:4])\n",
    "        svgwrap = chess.svg.board(board, size=size, fill=dict.fromkeys([sq1, sq2], '#ced264'))\n",
    "    else:\n",
    "        svgwrap = chess.svg.board(board, size=size)\n",
    "    svg2png(svgwrap, write_to='output.png')\n",
    "    cv2.imshow('Game', cv2.imread('output.png'))"
   ]
  },
  {
   "cell_type": "code",
   "execution_count": 23,
   "id": "3bb0ea0b-f9ba-4f74-a889-7f00ead3ffff",
   "metadata": {},
   "outputs": [],
   "source": [
    "# Determines a chessboard square at a point\n",
    "def identify_square(x: float, y: float, square_map: dict):\n",
    "    for square in square_map:\n",
    "        points = np.array(square_map[square], np.int32)\n",
    "        if cv2.pointPolygonTest(points, (x, y), False) > 0:\n",
    "            return square\n",
    "    return None"
   ]
  },
  {
   "cell_type": "code",
   "execution_count": 21,
   "id": "018a06d4-b905-44c7-a051-b16540c724e9",
   "metadata": {},
   "outputs": [],
   "source": [
    "# Draws the chessboard grid squares on the frame\n",
    "def map_grid(square_map: dict, frame, show_text = False) -> None:\n",
    "    for square in square_map:\n",
    "        points = np.array(square_map[square], dtype=np.int32)\n",
    "        cv2.polylines(frame,[points], True, (255, 255, 255), thickness=1)\n",
    "        x, y, w, h = cv2.boundingRect(points)\n",
    "        if show_text:\n",
    "            cv2.putText(frame, square, (x + w //2, y + h //2), cv2.FONT_HERSHEY_SIMPLEX, 0.5, (0, 0, 255), 2)"
   ]
  },
  {
   "cell_type": "code",
   "execution_count": null,
   "id": "f262814d",
   "metadata": {},
   "outputs": [],
   "source": [
    "# Moves the arm to the rest position\n",
    "async def rest_arm(array, speed):\n",
    "    Arm.Arm_serial_servo_write6_array(array, speed)\n",
    "    await asyncio.sleep(speed / 1000) "
   ]
  },
  {
   "cell_type": "code",
   "execution_count": null,
   "id": "b4c5567d",
   "metadata": {},
   "outputs": [],
   "source": [
    "# Moves the arm to pick up a piece \n",
    "async def pick_piece(array, speed):\n",
    "    try:\n",
    "        Arm.Arm_serial_servo_write6_array(array, speed)\n",
    "        original = array[5]\n",
    "        await asyncio.sleep(5) \n",
    "        array[5] = 179\n",
    "        Arm.Arm_serial_servo_write6_array(array, speed)\n",
    "        await asyncio.sleep(1) \n",
    "        array[5] = original\n",
    "    except ValueError as e:\n",
    "        print(f\"Invalid move at index ('{array}'): {e}\")         "
   ]
  },
  {
   "cell_type": "code",
   "execution_count": null,
   "id": "3761474d",
   "metadata": {},
   "outputs": [],
   "source": [
    "# Moves the arm to place a piece \n",
    "async def place_piece(array, speed):\n",
    "    try:\n",
    "        Arm.Arm_serial_servo_write6_array(array, speed)\n",
    "        await asyncio.sleep(3) \n",
    "        array[5] = 159\n",
    "        Arm.Arm_serial_servo_write6_array(array, speed)\n",
    "    except ValueError as e:\n",
    "        print(f\"Invalid move at index ('{array}'): {e}\")"
   ]
  },
  {
   "cell_type": "code",
   "execution_count": null,
   "id": "11b5a7eb",
   "metadata": {},
   "outputs": [],
   "source": [
    "def initialize_camera():\n",
    "    cap = cv2.VideoCapture(0)\n",
    "    if not cap.isOpened():\n",
    "        print(\"Error: Unable to access the camera.\")\n",
    "        return None\n",
    "    return cap"
   ]
  },
  {
   "cell_type": "code",
   "execution_count": null,
   "id": "3b94ebec",
   "metadata": {},
   "outputs": [],
   "source": [
    "# Capture a frame from the webcam and overlay the chessboard grid.\n",
    "def capture_and_display_frame(cap, square_map):\n",
    "    ret, frame = cap.read()\n",
    "    if not ret:\n",
    "        print(\"Failed to capture frame.\")\n",
    "        return None\n",
    "    map_grid(square_map, frame)\n",
    "    cv2.imshow('Frame', frame)\n",
    "    return frame"
   ]
  },
  {
   "cell_type": "code",
   "execution_count": null,
   "id": "6d88e2f1",
   "metadata": {},
   "outputs": [],
   "source": [
    "# Handle the computer's move using the chess engine and robotic arm.\n",
    "def handle_computer_move(engine, board, arm_position, speed):\n",
    "    \n",
    "    result = engine.play(board, chess.engine.Limit(time=random.random()))\n",
    "    comp_move = result.move.uci()\n",
    "    (sq1, sq2) = (comp_move[:2], comp_move[2:4])\n",
    "\n",
    "    # Move the robotic arm\n",
    "    start_square = sq1\n",
    "    start_angles = arm_position[start_square]\n",
    "    asyncio.run(pick_piece(start_angles, speed))\n",
    "\n",
    "    end_square = sq2\n",
    "    end_angles = arm_position[end_square]\n",
    "    asyncio.run(place_piece(end_angles, speed))\n",
    "\n",
    "    # Update the chessboard\n",
    "    board.push(result.move)\n",
    "    print('Robot plays', result.move.uci())\n",
    "    visualize_game(board, move=str(result.move))\n",
    "    return False  # Switch to human's turn"
   ]
  },
  {
   "cell_type": "code",
   "execution_count": null,
   "id": "6fd0acfe",
   "metadata": {},
   "outputs": [],
   "source": [
    "# Record the initial and final frames for human move detection.\n",
    "def record_move_frames(frame, initial):\n",
    "    if len(initial) == 0:\n",
    "        print(\"Recording initial frame\")\n",
    "        return frame, []  # Initial frame recorded\n",
    "    else:\n",
    "        print(\"Recording final frame\")\n",
    "        return initial, frame  # Both frames recorded"
   ]
  },
  {
   "cell_type": "code",
   "execution_count": null,
   "id": "c8f11d59",
   "metadata": {},
   "outputs": [],
   "source": [
    "# Validate and execute a UCI move on the chessboard.\n",
    "async def validate_and_push_move(sq1, sq2, board):\n",
    "    if board.color_at(chess.parse_square(sq1)) == board.turn:\n",
    "        start, end = sq1, sq2\n",
    "    else:\n",
    "        start, end = sq2, sq1\n",
    "\n",
    "    move = start + end\n",
    "    try:\n",
    "        board.push_uci(move)\n",
    "        print(f\"Move played: {move}\")\n",
    "        visualize_game(board, move=move)\n",
    "        return move\n",
    "    except ValueError:\n",
    "        print(f\"Invalid move detected: {move}\")\n",
    "        return None"
   ]
  },
  {
   "cell_type": "code",
   "execution_count": null,
   "id": "ffba3a4a",
   "metadata": {},
   "outputs": [],
   "source": [
    "# Process the human's move by comparing the initial and final frames.\n",
    "async def process_human_move(initial, final, square_map, board):\n",
    "    gray1 = cv2.cvtColor(initial, cv2.COLOR_BGR2GRAY)\n",
    "    gray2 = cv2.cvtColor(final, cv2.COLOR_BGR2GRAY)\n",
    "    diff = cv2.absdiff(gray1, gray2)\n",
    "    _, diff = cv2.threshold(diff, 25, 255, cv2.THRESH_BINARY)\n",
    "    diff = cv2.dilate(diff, None, iterations=4)\n",
    "    kernel = cv2.getStructuringElement(cv2.MORPH_RECT, (3, 3))\n",
    "    diff = cv2.erode(diff, kernel, iterations=6)\n",
    "\n",
    "    contours, _ = cv2.findContours(diff, cv2.RETR_EXTERNAL, cv2.CHAIN_APPROX_SIMPLE)\n",
    "    sorted_contours = sorted(\n",
    "        contours, key=lambda c: cv2.contourArea(c), reverse=True\n",
    "    )[:2]\n",
    "\n",
    "    if len(sorted_contours) < 2:\n",
    "        print(\"Invalid move detected: Not enough contours.\")\n",
    "        return None, None\n",
    "\n",
    "    # Identify centers of bounding boxes\n",
    "    centers = [\n",
    "        (x + w // 2, y + h // 2) for x, y, w, h in [cv2.boundingRect(c) for c in sorted_contours]\n",
    "    ]\n",
    "    highlights = set(identify_square(cx, cy, square_map) for cx, cy in centers)\n",
    "\n",
    "    # Validate and execute the move\n",
    "    if len(highlights) == 2:\n",
    "        sq1, sq2 = highlights.pop(), highlights.pop()\n",
    "        move = await validate_and_push_move(sq1, sq2, board)\n",
    "        if move:\n",
    "            return move\n",
    "    print(\"Invalid move detected. Try again.\")\n",
    "    return None"
   ]
  },
  {
   "cell_type": "code",
   "execution_count": null,
   "id": "be0148e5",
   "metadata": {},
   "outputs": [],
   "source": [
    "# Quit the game and release resources.\n",
    "def quit_game(cap):\n",
    "    cap.release()\n",
    "    cv2.destroyAllWindows()"
   ]
  },
  {
   "cell_type": "code",
   "execution_count": null,
   "id": "71d70bc2",
   "metadata": {},
   "outputs": [],
   "source": [
    "# Main loop\n",
    "async def main_loop():\n",
    "    # Initialize webcam capture\n",
    "    cap = initialize_camera()\n",
    "    if cap is None:\n",
    "        return  \n",
    "\n",
    "    board = chess.Board()\n",
    "\n",
    "    # Move the arm to the rest position\n",
    "    await rest_arm(arm_position[\"rest\"], speed)\n",
    "\n",
    "    initial, final = [], []\n",
    "\n",
    "    comp_move = True\n",
    "    visualize_game(board)\n",
    "    cv2.waitKey(1)\n",
    "\n",
    "    # Main game loop\n",
    "    while not board.is_game_over():\n",
    "        frame = capture_and_display_frame(cap, square_map)\n",
    "        if frame is None:\n",
    "            break\n",
    "\n",
    "        if comp_move:\n",
    "            # Handle computer's move asynchronously\n",
    "            comp_move_task = asyncio.create_task(handle_computer_move(engine, board, arm_position, speed))\n",
    "            await comp_move_task\n",
    "            comp_move = False\n",
    "\n",
    "        if cv2.waitKey(1) & 0xFF == ord('r'):\n",
    "            initial, final = record_move_frames(frame, initial)\n",
    "            if final:\n",
    "                move = await process_human_move(initial, final, square_map, board)\n",
    "                if move:\n",
    "                    comp_move = True  # Switch to computer's turn\n",
    "                initial, final = [], []  # Reset frames\n",
    "\n",
    "        if cv2.waitKey(2) & 0xFF == ord('q'):\n",
    "            quit_game(cap)\n",
    "            break\n",
    "\n",
    "    visualize_game(board)\n",
    "    quit_game(cap)\n",
    "\n",
    "asyncio.run(main_loop())"
   ]
  }
 ],
 "metadata": {
  "kernelspec": {
   "display_name": "Python 3 (ipykernel)",
   "language": "python",
   "name": "python3"
  },
  "language_info": {
   "codemirror_mode": {
    "name": "ipython",
    "version": 3
   },
   "file_extension": ".py",
   "mimetype": "text/x-python",
   "name": "python",
   "nbconvert_exporter": "python",
   "pygments_lexer": "ipython3",
   "version": "3.11.2"
  }
 },
 "nbformat": 4,
 "nbformat_minor": 5
}
