{
 "cells": [
  {
   "cell_type": "code",
   "execution_count": 1,
   "id": "a9b48f12-a5e4-4123-b8e4-aa00d720ee89",
   "metadata": {},
   "outputs": [],
   "source": [
    "#!/usr/bin/env python3\n",
    "#coding=utf-8\n",
    "import time\n",
    "from Arm_Lib import Arm_Device\n",
    "\n",
    "# Get DOFBOT object\n",
    "Arm = Arm_Device()\n",
    "time.sleep(.1)"
   ]
  },
  {
   "cell_type": "code",
   "execution_count": 2,
   "id": "b36579d2-b873-4995-a386-b6c32e0c47e7",
   "metadata": {},
   "outputs": [
    {
     "name": "stdout",
     "output_type": "stream",
     "text": [
      " Program closed! \n"
     ]
    }
   ],
   "source": [
    "# Controlling DOFBOT swing up and down in loop\n",
    "def main():\n",
    "    # make all servo middle\n",
    "    Arm.Arm_serial_servo_write6(90, 90, 90, 90, 90, 90, 500)\n",
    "    time.sleep(1)\n",
    "\n",
    "\n",
    "    while True:\n",
    "        # Control No. 3 and No. 4 servos to up and down\n",
    "        Arm.Arm_serial_servo_write(3, 0, 1000)\n",
    "        time.sleep(.001)\n",
    "        Arm.Arm_serial_servo_write(4, 180, 1000)\n",
    "        time.sleep(1)\n",
    "        \n",
    "        # Control the No.1 servo to left and right\n",
    "        Arm.Arm_serial_servo_write(1, 180, 500)\n",
    "        time.sleep(.5)\n",
    "        Arm.Arm_serial_servo_write(1, 0, 1000)\n",
    "        time.sleep(1)\n",
    "        \n",
    "        # Control the servo to restore the initial position\n",
    "        Arm.Arm_serial_servo_write6(90, 90, 90, 90, 90, 90, 1000)\n",
    "        time.sleep(1.5)\n",
    "\n",
    "\n",
    "try :\n",
    "    main()\n",
    "except KeyboardInterrupt:\n",
    "    print(\" Program closed! \")\n",
    "    pass\n"
   ]
  },
  {
   "cell_type": "code",
   "execution_count": 3,
   "id": "3687575a-3c22-4602-bb84-ad88de0b5d8c",
   "metadata": {},
   "outputs": [],
   "source": [
    "del Arm  # Release DOFBOT object"
   ]
  }
 ],
 "metadata": {
  "kernelspec": {
   "display_name": "Python 3 (ipykernel)",
   "language": "python",
   "name": "python3"
  },
  "language_info": {
   "codemirror_mode": {
    "name": "ipython",
    "version": 3
   },
   "file_extension": ".py",
   "mimetype": "text/x-python",
   "name": "python",
   "nbconvert_exporter": "python",
   "pygments_lexer": "ipython3",
   "version": "3.11.2"
  }
 },
 "nbformat": 4,
 "nbformat_minor": 5
}
