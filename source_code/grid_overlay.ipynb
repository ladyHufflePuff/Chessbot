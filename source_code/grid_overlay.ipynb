{
 "cells": [
  {
   "cell_type": "markdown",
   "id": "e88457f2",
   "metadata": {},
   "source": [
    "# Script to plot chessboard squares on a live feed using coordinates from the JSON file for grid alignment."
   ]
  },
  {
   "cell_type": "code",
   "execution_count": null,
   "id": "df634b43-f387-4947-a3eb-da8358346f64",
   "metadata": {},
   "outputs": [],
   "source": [
    "import cv2\n",
    "import numpy as np\n",
    "import json\n",
    "\n",
    "# Load square coordinates\n",
    "json_file = 'chessboard_mapping.json'\n",
    "with open(json_file, 'r') as file:\n",
    "    data = json.load(file)\n",
    "\n",
    "# Convert data values to integer tuples for OpenCV\n",
    "regions = {key: np.array(value, dtype=np.int32) for key, value in data.items()}\n",
    "\n",
    "cap = cv2.VideoCapture(0)\n",
    "\n",
    "while True:\n",
    "    ret, frame = cap.read()\n",
    "    if not ret:\n",
    "        break\n",
    "\n",
    "    # Overlay squares on the frame\n",
    "    for key, points in regions.items():\n",
    "        cv2.polylines(frame, [points], isClosed=True, color=(0, 255, 0), thickness=2)\n",
    "        overlay = frame.copy()\n",
    "        cv2.fillPoly(overlay, [points], color=(0, 255, 0))\n",
    "        alpha = 0.3 \n",
    "        frame = cv2.addWeighted(overlay, alpha, frame, 1 - alpha, 0)\n",
    "\n",
    "    cv2.imshow(\"Live Feed with Overlays\", frame)\n",
    "\n",
    "    # Exit \n",
    "    if cv2.waitKey(1) & 0xFF == ord('q'):\n",
    "        break\n",
    "\n",
    "cap.release()\n",
    "cv2.destroyAllWindows()"
   ]
  }
 ],
 "metadata": {
  "kernelspec": {
   "display_name": "Python 3 (ipykernel)",
   "language": "python",
   "name": "python3"
  },
  "language_info": {
   "codemirror_mode": {
    "name": "ipython",
    "version": 3
   },
   "file_extension": ".py",
   "mimetype": "text/x-python",
   "name": "python",
   "nbconvert_exporter": "python",
   "pygments_lexer": "ipython3",
   "version": "3.11.2"
  }
 },
 "nbformat": 4,
 "nbformat_minor": 5
}
